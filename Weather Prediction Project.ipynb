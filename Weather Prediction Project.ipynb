{
 "cells": [
  {
   "cell_type": "code",
   "execution_count": 35,
   "id": "ca8334f9",
   "metadata": {},
   "outputs": [],
   "source": [
    "import pandas as pd\n",
    "from sklearn.model_selection import train_test_split\n",
    "from sklearn.naive_bayes import GaussianNB\n",
    "from sklearn import svm\n",
    "import sklearn.metrics as mc"
   ]
  },
  {
   "cell_type": "markdown",
   "id": "270081a8",
   "metadata": {},
   "source": [
    "# Data Understanding"
   ]
  },
  {
   "cell_type": "code",
   "execution_count": 36,
   "id": "914007d0",
   "metadata": {},
   "outputs": [
    {
     "data": {
      "text/html": [
       "<div>\n",
       "<style scoped>\n",
       "    .dataframe tbody tr th:only-of-type {\n",
       "        vertical-align: middle;\n",
       "    }\n",
       "\n",
       "    .dataframe tbody tr th {\n",
       "        vertical-align: top;\n",
       "    }\n",
       "\n",
       "    .dataframe thead th {\n",
       "        text-align: right;\n",
       "    }\n",
       "</style>\n",
       "<table border=\"1\" class=\"dataframe\">\n",
       "  <thead>\n",
       "    <tr style=\"text-align: right;\">\n",
       "      <th></th>\n",
       "      <th>date</th>\n",
       "      <th>precipitation</th>\n",
       "      <th>temp_max</th>\n",
       "      <th>temp_min</th>\n",
       "      <th>wind</th>\n",
       "      <th>weather</th>\n",
       "    </tr>\n",
       "  </thead>\n",
       "  <tbody>\n",
       "    <tr>\n",
       "      <th>0</th>\n",
       "      <td>2012-01-01</td>\n",
       "      <td>0.0</td>\n",
       "      <td>12.8</td>\n",
       "      <td>5.0</td>\n",
       "      <td>4.7</td>\n",
       "      <td>drizzle</td>\n",
       "    </tr>\n",
       "    <tr>\n",
       "      <th>1</th>\n",
       "      <td>2012-01-02</td>\n",
       "      <td>10.9</td>\n",
       "      <td>10.6</td>\n",
       "      <td>2.8</td>\n",
       "      <td>4.5</td>\n",
       "      <td>rain</td>\n",
       "    </tr>\n",
       "    <tr>\n",
       "      <th>2</th>\n",
       "      <td>2012-01-03</td>\n",
       "      <td>0.8</td>\n",
       "      <td>11.7</td>\n",
       "      <td>7.2</td>\n",
       "      <td>2.3</td>\n",
       "      <td>rain</td>\n",
       "    </tr>\n",
       "    <tr>\n",
       "      <th>3</th>\n",
       "      <td>2012-01-04</td>\n",
       "      <td>20.3</td>\n",
       "      <td>12.2</td>\n",
       "      <td>5.6</td>\n",
       "      <td>4.7</td>\n",
       "      <td>rain</td>\n",
       "    </tr>\n",
       "    <tr>\n",
       "      <th>4</th>\n",
       "      <td>2012-01-05</td>\n",
       "      <td>1.3</td>\n",
       "      <td>8.9</td>\n",
       "      <td>2.8</td>\n",
       "      <td>6.1</td>\n",
       "      <td>rain</td>\n",
       "    </tr>\n",
       "    <tr>\n",
       "      <th>...</th>\n",
       "      <td>...</td>\n",
       "      <td>...</td>\n",
       "      <td>...</td>\n",
       "      <td>...</td>\n",
       "      <td>...</td>\n",
       "      <td>...</td>\n",
       "    </tr>\n",
       "    <tr>\n",
       "      <th>1456</th>\n",
       "      <td>2015-12-27</td>\n",
       "      <td>8.6</td>\n",
       "      <td>4.4</td>\n",
       "      <td>1.7</td>\n",
       "      <td>2.9</td>\n",
       "      <td>rain</td>\n",
       "    </tr>\n",
       "    <tr>\n",
       "      <th>1457</th>\n",
       "      <td>2015-12-28</td>\n",
       "      <td>1.5</td>\n",
       "      <td>5.0</td>\n",
       "      <td>1.7</td>\n",
       "      <td>1.3</td>\n",
       "      <td>rain</td>\n",
       "    </tr>\n",
       "    <tr>\n",
       "      <th>1458</th>\n",
       "      <td>2015-12-29</td>\n",
       "      <td>0.0</td>\n",
       "      <td>7.2</td>\n",
       "      <td>0.6</td>\n",
       "      <td>2.6</td>\n",
       "      <td>fog</td>\n",
       "    </tr>\n",
       "    <tr>\n",
       "      <th>1459</th>\n",
       "      <td>2015-12-30</td>\n",
       "      <td>0.0</td>\n",
       "      <td>5.6</td>\n",
       "      <td>-1.0</td>\n",
       "      <td>3.4</td>\n",
       "      <td>sun</td>\n",
       "    </tr>\n",
       "    <tr>\n",
       "      <th>1460</th>\n",
       "      <td>2015-12-31</td>\n",
       "      <td>0.0</td>\n",
       "      <td>5.6</td>\n",
       "      <td>-2.1</td>\n",
       "      <td>3.5</td>\n",
       "      <td>sun</td>\n",
       "    </tr>\n",
       "  </tbody>\n",
       "</table>\n",
       "<p>1461 rows × 6 columns</p>\n",
       "</div>"
      ],
      "text/plain": [
       "            date  precipitation  temp_max  temp_min  wind  weather\n",
       "0     2012-01-01            0.0      12.8       5.0   4.7  drizzle\n",
       "1     2012-01-02           10.9      10.6       2.8   4.5     rain\n",
       "2     2012-01-03            0.8      11.7       7.2   2.3     rain\n",
       "3     2012-01-04           20.3      12.2       5.6   4.7     rain\n",
       "4     2012-01-05            1.3       8.9       2.8   6.1     rain\n",
       "...          ...            ...       ...       ...   ...      ...\n",
       "1456  2015-12-27            8.6       4.4       1.7   2.9     rain\n",
       "1457  2015-12-28            1.5       5.0       1.7   1.3     rain\n",
       "1458  2015-12-29            0.0       7.2       0.6   2.6      fog\n",
       "1459  2015-12-30            0.0       5.6      -1.0   3.4      sun\n",
       "1460  2015-12-31            0.0       5.6      -2.1   3.5      sun\n",
       "\n",
       "[1461 rows x 6 columns]"
      ]
     },
     "execution_count": 36,
     "metadata": {},
     "output_type": "execute_result"
    }
   ],
   "source": [
    "data = pd.read_csv(\"seattle-weather.csv\")\n",
    "data"
   ]
  },
  {
   "cell_type": "code",
   "execution_count": 37,
   "id": "018a7d45",
   "metadata": {},
   "outputs": [
    {
     "data": {
      "text/plain": [
       "date             0\n",
       "precipitation    0\n",
       "temp_max         0\n",
       "temp_min         0\n",
       "wind             0\n",
       "weather          0\n",
       "dtype: int64"
      ]
     },
     "execution_count": 37,
     "metadata": {},
     "output_type": "execute_result"
    }
   ],
   "source": [
    "data.isnull().sum()"
   ]
  },
  {
   "cell_type": "code",
   "execution_count": 38,
   "id": "bc0a574e",
   "metadata": {},
   "outputs": [
    {
     "data": {
      "text/html": [
       "<div>\n",
       "<style scoped>\n",
       "    .dataframe tbody tr th:only-of-type {\n",
       "        vertical-align: middle;\n",
       "    }\n",
       "\n",
       "    .dataframe tbody tr th {\n",
       "        vertical-align: top;\n",
       "    }\n",
       "\n",
       "    .dataframe thead th {\n",
       "        text-align: right;\n",
       "    }\n",
       "</style>\n",
       "<table border=\"1\" class=\"dataframe\">\n",
       "  <thead>\n",
       "    <tr style=\"text-align: right;\">\n",
       "      <th></th>\n",
       "      <th>precipitation</th>\n",
       "      <th>temp_max</th>\n",
       "      <th>temp_min</th>\n",
       "      <th>wind</th>\n",
       "    </tr>\n",
       "  </thead>\n",
       "  <tbody>\n",
       "    <tr>\n",
       "      <th>count</th>\n",
       "      <td>1461.000000</td>\n",
       "      <td>1461.000000</td>\n",
       "      <td>1461.000000</td>\n",
       "      <td>1461.000000</td>\n",
       "    </tr>\n",
       "    <tr>\n",
       "      <th>mean</th>\n",
       "      <td>3.029432</td>\n",
       "      <td>16.439083</td>\n",
       "      <td>8.234771</td>\n",
       "      <td>3.241136</td>\n",
       "    </tr>\n",
       "    <tr>\n",
       "      <th>std</th>\n",
       "      <td>6.680194</td>\n",
       "      <td>7.349758</td>\n",
       "      <td>5.023004</td>\n",
       "      <td>1.437825</td>\n",
       "    </tr>\n",
       "    <tr>\n",
       "      <th>min</th>\n",
       "      <td>0.000000</td>\n",
       "      <td>-1.600000</td>\n",
       "      <td>-7.100000</td>\n",
       "      <td>0.400000</td>\n",
       "    </tr>\n",
       "    <tr>\n",
       "      <th>25%</th>\n",
       "      <td>0.000000</td>\n",
       "      <td>10.600000</td>\n",
       "      <td>4.400000</td>\n",
       "      <td>2.200000</td>\n",
       "    </tr>\n",
       "    <tr>\n",
       "      <th>50%</th>\n",
       "      <td>0.000000</td>\n",
       "      <td>15.600000</td>\n",
       "      <td>8.300000</td>\n",
       "      <td>3.000000</td>\n",
       "    </tr>\n",
       "    <tr>\n",
       "      <th>75%</th>\n",
       "      <td>2.800000</td>\n",
       "      <td>22.200000</td>\n",
       "      <td>12.200000</td>\n",
       "      <td>4.000000</td>\n",
       "    </tr>\n",
       "    <tr>\n",
       "      <th>max</th>\n",
       "      <td>55.900000</td>\n",
       "      <td>35.600000</td>\n",
       "      <td>18.300000</td>\n",
       "      <td>9.500000</td>\n",
       "    </tr>\n",
       "  </tbody>\n",
       "</table>\n",
       "</div>"
      ],
      "text/plain": [
       "       precipitation     temp_max     temp_min         wind\n",
       "count    1461.000000  1461.000000  1461.000000  1461.000000\n",
       "mean        3.029432    16.439083     8.234771     3.241136\n",
       "std         6.680194     7.349758     5.023004     1.437825\n",
       "min         0.000000    -1.600000    -7.100000     0.400000\n",
       "25%         0.000000    10.600000     4.400000     2.200000\n",
       "50%         0.000000    15.600000     8.300000     3.000000\n",
       "75%         2.800000    22.200000    12.200000     4.000000\n",
       "max        55.900000    35.600000    18.300000     9.500000"
      ]
     },
     "execution_count": 38,
     "metadata": {},
     "output_type": "execute_result"
    }
   ],
   "source": [
    "data.describe()"
   ]
  },
  {
   "cell_type": "code",
   "execution_count": 39,
   "id": "00f148e2",
   "metadata": {},
   "outputs": [
    {
     "name": "stdout",
     "output_type": "stream",
     "text": [
      "<class 'pandas.core.frame.DataFrame'>\n",
      "RangeIndex: 1461 entries, 0 to 1460\n",
      "Data columns (total 6 columns):\n",
      " #   Column         Non-Null Count  Dtype  \n",
      "---  ------         --------------  -----  \n",
      " 0   date           1461 non-null   object \n",
      " 1   precipitation  1461 non-null   float64\n",
      " 2   temp_max       1461 non-null   float64\n",
      " 3   temp_min       1461 non-null   float64\n",
      " 4   wind           1461 non-null   float64\n",
      " 5   weather        1461 non-null   object \n",
      "dtypes: float64(4), object(2)\n",
      "memory usage: 68.6+ KB\n"
     ]
    }
   ],
   "source": [
    "data.info()"
   ]
  },
  {
   "cell_type": "markdown",
   "id": "b86972fb",
   "metadata": {},
   "source": [
    "# Data Spliting"
   ]
  },
  {
   "cell_type": "code",
   "execution_count": 40,
   "id": "85970b2f",
   "metadata": {},
   "outputs": [],
   "source": [
    "x = data.iloc [ : , 1:-1] \n",
    "y = data.iloc [ : , -1] "
   ]
  },
  {
   "cell_type": "code",
   "execution_count": 41,
   "id": "ed748b4f",
   "metadata": {},
   "outputs": [],
   "source": [
    "x_train,x_test,y_train,y_test = train_test_split(x,y,test_size = .25)"
   ]
  },
  {
   "cell_type": "markdown",
   "id": "f2e8ccd7",
   "metadata": {},
   "source": [
    "# Naive Bayes"
   ]
  },
  {
   "cell_type": "code",
   "execution_count": 42,
   "id": "c0c6cd4c",
   "metadata": {},
   "outputs": [],
   "source": [
    "GNB = GaussianNB()"
   ]
  },
  {
   "cell_type": "code",
   "execution_count": 43,
   "id": "489c4785",
   "metadata": {},
   "outputs": [
    {
     "data": {
      "text/plain": [
       "GaussianNB()"
      ]
     },
     "execution_count": 43,
     "metadata": {},
     "output_type": "execute_result"
    }
   ],
   "source": [
    "GNB.fit(x_train,y_train)"
   ]
  },
  {
   "cell_type": "code",
   "execution_count": 44,
   "id": "d731ff33",
   "metadata": {},
   "outputs": [
    {
     "data": {
      "text/plain": [
       "array(['sun', 'sun', 'sun', 'rain', 'sun', 'rain', 'sun', 'sun', 'sun',\n",
       "       'sun', 'sun', 'sun', 'sun', 'rain', 'sun', 'sun', 'rain', 'sun',\n",
       "       'sun', 'sun', 'sun', 'rain', 'sun', 'rain', 'sun', 'rain', 'rain',\n",
       "       'sun', 'sun', 'sun', 'rain', 'sun', 'sun', 'sun', 'rain', 'rain',\n",
       "       'sun', 'rain', 'sun', 'sun', 'drizzle', 'sun', 'rain', 'sun',\n",
       "       'sun', 'sun', 'sun', 'rain', 'sun', 'rain', 'rain', 'sun', 'rain',\n",
       "       'sun', 'rain', 'sun', 'rain', 'rain', 'rain', 'sun', 'sun', 'sun',\n",
       "       'sun', 'sun', 'rain', 'sun', 'sun', 'sun', 'rain', 'sun', 'sun',\n",
       "       'rain', 'sun', 'rain', 'rain', 'rain', 'sun', 'rain', 'rain',\n",
       "       'sun', 'sun', 'rain', 'rain', 'rain', 'rain', 'rain', 'sun',\n",
       "       'rain', 'sun', 'rain', 'sun', 'sun', 'rain', 'sun', 'rain', 'sun',\n",
       "       'rain', 'rain', 'rain', 'sun', 'rain', 'rain', 'rain', 'sun',\n",
       "       'rain', 'rain', 'sun', 'rain', 'sun', 'sun', 'sun', 'rain', 'snow',\n",
       "       'rain', 'rain', 'sun', 'rain', 'rain', 'rain', 'rain', 'rain',\n",
       "       'sun', 'sun', 'sun', 'sun', 'sun', 'sun', 'sun', 'snow', 'sun',\n",
       "       'rain', 'sun', 'rain', 'sun', 'rain', 'sun', 'rain', 'drizzle',\n",
       "       'sun', 'drizzle', 'sun', 'rain', 'rain', 'sun', 'sun', 'sun',\n",
       "       'snow', 'sun', 'sun', 'sun', 'sun', 'sun', 'rain', 'sun', 'sun',\n",
       "       'sun', 'sun', 'rain', 'sun', 'rain', 'rain', 'rain', 'sun', 'sun',\n",
       "       'sun', 'rain', 'sun', 'sun', 'sun', 'rain', 'sun', 'sun', 'rain',\n",
       "       'rain', 'sun', 'sun', 'rain', 'sun', 'rain', 'rain', 'rain',\n",
       "       'rain', 'rain', 'rain', 'rain', 'sun', 'sun', 'sun', 'rain',\n",
       "       'rain', 'rain', 'sun', 'rain', 'rain', 'sun', 'rain', 'rain',\n",
       "       'sun', 'rain', 'sun', 'sun', 'rain', 'rain', 'rain', 'rain', 'sun',\n",
       "       'sun', 'sun', 'rain', 'sun', 'sun', 'sun', 'sun', 'sun', 'sun',\n",
       "       'rain', 'rain', 'drizzle', 'rain', 'rain', 'rain', 'rain', 'rain',\n",
       "       'sun', 'sun', 'sun', 'rain', 'rain', 'sun', 'sun', 'sun', 'sun',\n",
       "       'sun', 'rain', 'rain', 'sun', 'sun', 'rain', 'rain', 'sun', 'rain',\n",
       "       'rain', 'sun', 'sun', 'rain', 'rain', 'rain', 'rain', 'sun',\n",
       "       'rain', 'sun', 'sun', 'sun', 'rain', 'rain', 'rain', 'sun', 'sun',\n",
       "       'sun', 'sun', 'sun', 'rain', 'sun', 'sun', 'sun', 'rain', 'rain',\n",
       "       'sun', 'sun', 'sun', 'rain', 'rain', 'sun', 'rain', 'sun', 'rain',\n",
       "       'sun', 'sun', 'rain', 'sun', 'rain', 'rain', 'rain', 'rain',\n",
       "       'rain', 'sun', 'sun', 'rain', 'sun', 'sun', 'sun', 'rain', 'sun',\n",
       "       'rain', 'rain', 'sun', 'sun', 'rain', 'sun', 'rain', 'sun', 'rain',\n",
       "       'sun', 'rain', 'sun', 'sun', 'rain', 'sun', 'rain', 'rain', 'rain',\n",
       "       'rain', 'sun', 'sun', 'rain', 'rain', 'sun', 'sun', 'rain', 'sun',\n",
       "       'sun', 'rain', 'sun', 'sun', 'sun', 'sun', 'sun', 'sun', 'sun',\n",
       "       'rain', 'sun', 'rain', 'sun', 'rain', 'drizzle', 'sun', 'rain',\n",
       "       'sun', 'rain', 'rain', 'rain', 'rain', 'sun', 'sun', 'rain', 'sun',\n",
       "       'sun', 'sun', 'sun', 'rain', 'rain', 'rain', 'sun', 'sun', 'sun',\n",
       "       'snow', 'rain', 'sun', 'sun', 'sun', 'sun', 'sun', 'rain', 'rain',\n",
       "       'sun', 'rain'], dtype='<U7')"
      ]
     },
     "execution_count": 44,
     "metadata": {},
     "output_type": "execute_result"
    }
   ],
   "source": [
    "y_predict = GNB.predict(x_test)\n",
    "y_predict"
   ]
  },
  {
   "cell_type": "markdown",
   "id": "f73223ae",
   "metadata": {},
   "source": [
    "# SVM"
   ]
  },
  {
   "cell_type": "code",
   "execution_count": 45,
   "id": "a6466b13",
   "metadata": {},
   "outputs": [],
   "source": [
    "SVM = svm.SVC(kernel='linear')"
   ]
  },
  {
   "cell_type": "code",
   "execution_count": 46,
   "id": "9eaf4307",
   "metadata": {},
   "outputs": [
    {
     "data": {
      "text/plain": [
       "SVC(kernel='linear')"
      ]
     },
     "execution_count": 46,
     "metadata": {},
     "output_type": "execute_result"
    }
   ],
   "source": [
    "SVM.fit(x_train,y_train)"
   ]
  },
  {
   "cell_type": "code",
   "execution_count": 47,
   "id": "018e2128",
   "metadata": {},
   "outputs": [
    {
     "data": {
      "text/plain": [
       "array(['sun', 'sun', 'sun', 'rain', 'sun', 'rain', 'sun', 'sun', 'sun',\n",
       "       'sun', 'sun', 'sun', 'sun', 'rain', 'sun', 'sun', 'rain', 'sun',\n",
       "       'sun', 'sun', 'sun', 'rain', 'sun', 'rain', 'sun', 'rain', 'rain',\n",
       "       'sun', 'sun', 'sun', 'rain', 'sun', 'sun', 'sun', 'rain', 'rain',\n",
       "       'sun', 'rain', 'sun', 'sun', 'sun', 'sun', 'rain', 'sun', 'sun',\n",
       "       'sun', 'sun', 'rain', 'sun', 'rain', 'rain', 'sun', 'rain', 'sun',\n",
       "       'rain', 'sun', 'rain', 'rain', 'rain', 'sun', 'sun', 'sun', 'sun',\n",
       "       'sun', 'rain', 'sun', 'sun', 'sun', 'rain', 'sun', 'sun', 'rain',\n",
       "       'sun', 'rain', 'rain', 'rain', 'sun', 'rain', 'rain', 'sun', 'sun',\n",
       "       'rain', 'rain', 'rain', 'rain', 'rain', 'sun', 'rain', 'sun',\n",
       "       'rain', 'sun', 'sun', 'rain', 'sun', 'rain', 'sun', 'rain', 'rain',\n",
       "       'rain', 'sun', 'rain', 'rain', 'rain', 'sun', 'rain', 'rain',\n",
       "       'sun', 'rain', 'sun', 'sun', 'sun', 'rain', 'rain', 'rain', 'rain',\n",
       "       'sun', 'rain', 'rain', 'rain', 'rain', 'rain', 'sun', 'sun', 'sun',\n",
       "       'sun', 'sun', 'sun', 'sun', 'rain', 'sun', 'rain', 'sun', 'rain',\n",
       "       'sun', 'rain', 'sun', 'rain', 'sun', 'sun', 'sun', 'sun', 'rain',\n",
       "       'rain', 'sun', 'sun', 'sun', 'snow', 'sun', 'sun', 'sun', 'sun',\n",
       "       'sun', 'rain', 'sun', 'sun', 'sun', 'sun', 'rain', 'sun', 'rain',\n",
       "       'rain', 'rain', 'sun', 'sun', 'sun', 'rain', 'sun', 'sun', 'sun',\n",
       "       'rain', 'sun', 'sun', 'rain', 'rain', 'sun', 'sun', 'rain', 'sun',\n",
       "       'rain', 'rain', 'rain', 'rain', 'rain', 'rain', 'rain', 'sun',\n",
       "       'sun', 'sun', 'rain', 'rain', 'rain', 'sun', 'rain', 'rain', 'sun',\n",
       "       'rain', 'rain', 'sun', 'rain', 'sun', 'sun', 'rain', 'rain',\n",
       "       'rain', 'rain', 'sun', 'sun', 'sun', 'rain', 'sun', 'sun', 'sun',\n",
       "       'sun', 'sun', 'sun', 'rain', 'rain', 'sun', 'rain', 'rain', 'rain',\n",
       "       'rain', 'rain', 'sun', 'sun', 'sun', 'rain', 'rain', 'sun', 'sun',\n",
       "       'sun', 'sun', 'sun', 'rain', 'rain', 'sun', 'sun', 'rain', 'rain',\n",
       "       'sun', 'rain', 'rain', 'sun', 'sun', 'rain', 'rain', 'rain',\n",
       "       'rain', 'sun', 'rain', 'sun', 'sun', 'sun', 'rain', 'rain', 'rain',\n",
       "       'sun', 'sun', 'sun', 'sun', 'sun', 'rain', 'sun', 'sun', 'sun',\n",
       "       'rain', 'rain', 'sun', 'sun', 'sun', 'rain', 'rain', 'sun', 'rain',\n",
       "       'sun', 'rain', 'sun', 'sun', 'rain', 'sun', 'rain', 'rain', 'rain',\n",
       "       'rain', 'rain', 'sun', 'sun', 'rain', 'sun', 'sun', 'sun', 'rain',\n",
       "       'sun', 'rain', 'rain', 'sun', 'sun', 'rain', 'sun', 'rain', 'sun',\n",
       "       'rain', 'sun', 'rain', 'sun', 'sun', 'rain', 'sun', 'rain', 'rain',\n",
       "       'rain', 'rain', 'sun', 'sun', 'rain', 'rain', 'sun', 'sun', 'rain',\n",
       "       'sun', 'sun', 'rain', 'sun', 'sun', 'sun', 'sun', 'sun', 'sun',\n",
       "       'sun', 'rain', 'sun', 'rain', 'sun', 'rain', 'sun', 'sun', 'rain',\n",
       "       'sun', 'rain', 'rain', 'rain', 'rain', 'sun', 'sun', 'rain', 'sun',\n",
       "       'sun', 'sun', 'sun', 'rain', 'rain', 'rain', 'sun', 'sun', 'sun',\n",
       "       'rain', 'rain', 'sun', 'sun', 'sun', 'sun', 'sun', 'rain', 'rain',\n",
       "       'sun', 'rain'], dtype=object)"
      ]
     },
     "execution_count": 47,
     "metadata": {},
     "output_type": "execute_result"
    }
   ],
   "source": [
    "y_svm_predict = SVM.predict(x_test)\n",
    "y_svm_predict"
   ]
  },
  {
   "cell_type": "markdown",
   "id": "72e81c11",
   "metadata": {},
   "source": [
    "# Evaluate models"
   ]
  },
  {
   "cell_type": "code",
   "execution_count": 48,
   "id": "ed7dbd99",
   "metadata": {},
   "outputs": [
    {
     "data": {
      "text/plain": [
       "0.8497267759562842"
      ]
     },
     "execution_count": 48,
     "metadata": {},
     "output_type": "execute_result"
    }
   ],
   "source": [
    "mc.accuracy_score(y_test,y_predict) # Naive Bayes Accuracy"
   ]
  },
  {
   "cell_type": "code",
   "execution_count": 49,
   "id": "5d6c9552",
   "metadata": {},
   "outputs": [
    {
     "data": {
      "text/plain": [
       "0.855191256830601"
      ]
     },
     "execution_count": 49,
     "metadata": {},
     "output_type": "execute_result"
    }
   ],
   "source": [
    "mc.accuracy_score(y_test,y_svm_predict) # Support Vectot Machine Accuracy "
   ]
  },
  {
   "cell_type": "code",
   "execution_count": null,
   "id": "278b93d9",
   "metadata": {},
   "outputs": [],
   "source": []
  }
 ],
 "metadata": {
  "kernelspec": {
   "display_name": "Python 3 (ipykernel)",
   "language": "python",
   "name": "python3"
  },
  "language_info": {
   "codemirror_mode": {
    "name": "ipython",
    "version": 3
   },
   "file_extension": ".py",
   "mimetype": "text/x-python",
   "name": "python",
   "nbconvert_exporter": "python",
   "pygments_lexer": "ipython3",
   "version": "3.8.12"
  }
 },
 "nbformat": 4,
 "nbformat_minor": 5
}
